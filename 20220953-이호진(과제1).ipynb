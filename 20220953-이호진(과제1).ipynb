{
 "cells": [
  {
   "cell_type": "code",
   "execution_count": 2,
   "id": "b038348d",
   "metadata": {},
   "outputs": [
    {
     "name": "stdout",
     "output_type": "stream",
     "text": [
      "Header : 자동자판기 프로그램, 제출일 3월 29일, 학번 20220953, 이호진\n"
     ]
    }
   ],
   "source": [
    "print(\"Header : 자동자판기 프로그램, 제출일 3월 29일, 학번 20220953, 이호진\")"
   ]
  },
  {
   "cell_type": "code",
   "execution_count": 3,
   "id": "7914a4eb",
   "metadata": {
    "scrolled": true
   },
   "outputs": [
    {
     "name": "stdout",
     "output_type": "stream",
     "text": [
      "[자동 판매기 프로그램]\n",
      "======================================\n",
      "입력할 1000원짜리 갯수 : 4\n",
      "입력할 500원짜리 갯수 : 1\n",
      "입력할 100원짜리 갯수 : 5\n",
      "입력할 10원짜리 갯수 : 3\n",
      "입력할 1원짜리 갯수 : 2\n",
      "자판기에 넣은 돈 :  5032\n",
      "======================================\n",
      "구매할 물건의 가격 : 1444\n",
      "총합거스름돈 :  3588\n",
      "거스름돈을 받으세요\n",
      "1000원  3 장 \n",
      "500원  1 개 \n",
      "100원  0 개 \n",
      "10원  8 개 \n",
      "1원  8 개 \n"
     ]
    }
   ],
   "source": [
    "print(\"[자동 판매기 프로그램]\")\n",
    "print(\"======================================\")\n",
    "won_1000 = input(\"입력할 1000원짜리 갯수 : \")\n",
    "won_500 = input(\"입력할 500원짜리 갯수 : \")\n",
    "won_100 = input(\"입력할 100원짜리 갯수 : \")\n",
    "won_10 = input(\"입력할 10원짜리 갯수 : \")\n",
    "won_1 = input(\"입력할 1원짜리 갯수 : \")\n",
    "have_money = int(won_1000)*1000+int(won_500)*500+int(won_100)*100+int(won_10)*10+int(won_1)*1 #자판기에 넣은 총합 액수입니다\n",
    "print(\"자판기에 넣은 돈 : \", have_money)\n",
    "print(\"======================================\")\n",
    "buy_object = input(\"구매할 물건의 가격 : \") \n",
    "sum_change = (int(have_money) -int(buy_object))          #내가 받아야할 거스름돈으로, 총합액수에서 물건의 가격을 뺀 액수 \n",
    "print(\"총합거스름돈 : \",sum_change)\n",
    "print(\"거스름돈을 받으세요\")\n",
    "receive_1000 = int(sum_change/1000)\n",
    "receive_500 = int((sum_change-receive_1000*1000)/500)\n",
    "receive_100 = int((sum_change-(receive_1000*1000+receive_500*500))/100)\n",
    "receive_10 = int((sum_change-(receive_1000*1000+receive_500*500+receive_100*100))/10)\n",
    "receive_1 = int((sum_change-(receive_1000*1000+receive_500*500+receive_100*100+receive_10*10))/1)\n",
    "print(\"1000원 \",receive_1000, end=\" 장 \\n\")  \n",
    "print(\"500원 \",receive_500, end=\" 개 \\n\")\n",
    "print(\"100원 \",receive_100, end=\" 개 \\n\")\n",
    "print(\"10원 \",receive_10, end=\" 개 \\n\")\n",
    "print(\"1원 \",receive_1, end=\" 개 \\n\")"
   ]
  },
  {
   "cell_type": "code",
   "execution_count": 1,
   "id": "5bc2f3d1",
   "metadata": {},
   "outputs": [
    {
     "name": "stdout",
     "output_type": "stream",
     "text": [
      "Footer: 어려운점은 그다지없었지만, 코드가 너무 길어보여서 짧게 정리할 필요성을 느낀것같다. \n",
      "그리고 구입할 물건의 액수가 입력한 액수보다 클 경우 어떻게 자판기에서 거절시킬지 궁금해졌습니다\n"
     ]
    }
   ],
   "source": [
    "print(\"Footer: 어려운점은 그다지없었지만, 코드가 너무 길어보여서 짧게 정리할 필요성을 느낀것같다. \\n그리고 구입할 물건의 액수가 입력한 액수보다 클 경우 어떻게 자판기에서 거절시킬지 궁금해졌습니다\")"
   ]
  }
 ],
 "metadata": {
  "kernelspec": {
   "display_name": "Python 3 (ipykernel)",
   "language": "python",
   "name": "python3"
  },
  "language_info": {
   "codemirror_mode": {
    "name": "ipython",
    "version": 3
   },
   "file_extension": ".py",
   "mimetype": "text/x-python",
   "name": "python",
   "nbconvert_exporter": "python",
   "pygments_lexer": "ipython3",
   "version": "3.9.7"
  }
 },
 "nbformat": 4,
 "nbformat_minor": 5
}
