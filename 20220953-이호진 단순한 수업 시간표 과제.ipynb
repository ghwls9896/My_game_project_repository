{
 "cells": [
  {
   "cell_type": "markdown",
   "id": "2679d57e",
   "metadata": {},
   "source": [
    "## 단순한 수업 시간표 만들기 / 20220953 / 이호진"
   ]
  },
  {
   "cell_type": "code",
   "execution_count": 30,
   "id": "026e3cd1",
   "metadata": {},
   "outputs": [
    {
     "name": "stdout",
     "output_type": "stream",
     "text": [
      "[ TimeTable ]\n",
      "--------------\n",
      "| |M|T|W|T|F|\n",
      "--------------\n",
      "|1| | | | | |\n",
      "|2| | | | | |\n",
      "|3| | | | | |\n",
      "|4| | | | | |\n",
      "|5| | | | | |\n",
      "|6| | | | | |\n",
      "|7| | | | | |\n",
      "|8| | | | | |\n"
     ]
    }
   ],
   "source": [
    "a = [[' ']*5 for i in range(8)] #행과 열을 나타내기위해 2차원 리스트로 만들어줌\n",
    "separ = str(\"|\")\n",
    "print(\"[ TimeTable ]\")\n",
    "print(\"--------------\")\n",
    "print(\"| |M|T|W|T|F|\")\n",
    "print(\"--------------\")\n",
    "for i in range(8):\n",
    "    print(separ+str(i+1)+separ,end='')\n",
    "    for j in range(5):\n",
    "        print(a[i][j]+separ, end = \"\")\n",
    "    print()"
   ]
  },
  {
   "cell_type": "code",
   "execution_count": 32,
   "id": "5ff57fe3",
   "metadata": {},
   "outputs": [
    {
     "ename": "SyntaxError",
     "evalue": "invalid syntax (Temp/ipykernel_15320/1397248996.py, line 22)",
     "output_type": "error",
     "traceback": [
      "\u001b[1;36m  File \u001b[1;32m\"C:\\Users\\ghwls\\AppData\\Local\\Temp/ipykernel_15320/1397248996.py\"\u001b[1;36m, line \u001b[1;32m22\u001b[0m\n\u001b[1;33m    if(a[day_per[1]+i-1][day_per[0]] != ' ' or a[day_per[1]+i-1+cl_time][day_per[0]] != ' ')   #인덱스 순서 특성상 day_per[1]+i에 -1을 해주어야함\u001b[0m\n\u001b[1;37m                                                                                               ^\u001b[0m\n\u001b[1;31mSyntaxError\u001b[0m\u001b[1;31m:\u001b[0m invalid syntax\n"
     ]
    }
   ],
   "source": [
    "day_per = list(input(\">>>등록할 수업의 요일과 교시를 입력하세요 : \").split())   #day_per[0]일때 요일, [1]일때 시작하는 교시\n",
    "cl_time = int(input(\">>>등록할 수업의 연강 시간을 입력하세요 : \"))\n",
    "cl_name = str(input(\">>>등록할 수업의 알파벳을 입력하세요 : \"))\n",
    "if (day_per[0] == '월'):\n",
    "    day_per[0] = 0\n",
    "elif (day_per[0] == '화'):\n",
    "    day_per[0] = 1\n",
    "elif (day_per[0] == '수'):\n",
    "    day_per[0] = 2\n",
    "elif (day_per[0] == '목'):\n",
    "    day_per[0] = 3\n",
    "elif day_per[0] == '금':\n",
    "    day_per[0] = 4\n",
    "else:\n",
    "    print(\">>>[ERROR]요일을 잘못쓰셨습니다!\")                                      #요일을 잘 못썻을때 오류가 나타나게 하기위해 else를 금요일에 두지 않고 따로 else를 만들어줌\n",
    "    exit()\n",
    "\n",
    "\n",
    "day_per[1] = int(day_per[1])\n",
    "if (int(day_per[1]) >= 1 and 1<=int(day_per[1])+cl_time<=8):\n",
    "    for i in range(cl_time):\n",
    "        if(a[day_per[1]+i-1][day_per[0]] != ' ' or a[day_per[1]+i-1+cl_time][day_per[0]] != ' ')   #인덱스 순서 특성상 day_per[1]+i에 -1을 해주어야함\n",
    "            print(\"[ERROR]해당 시간에 이미 수업이 있습니다!\") \n",
    "            break\n",
    "        else:\n",
    "            a[day_per[1]+i-1][day_per[0]] = cl_name\n",
    "            \n",
    "else:\n",
    "    print(\">>>[ERROR]등록하려는 수업이 등록 가능 시간을 벗어납니다!\")"
   ]
  },
  {
   "cell_type": "code",
   "execution_count": 22,
   "id": "f31ca9dc",
   "metadata": {},
   "outputs": [
    {
     "name": "stdout",
     "output_type": "stream",
     "text": [
      "[ TimeTable ]\n",
      "--------------\n",
      "| |M|T|W|T|F|\n",
      "--------------\n",
      "|1| | | | | |\n",
      "|2|t| | |y|i|\n",
      "|3|t| |p|r|i|\n",
      "|4|t| |p| |i|\n",
      "|5| | | | | |\n",
      "|6| | | | | |\n",
      "|7| | | | | |\n",
      "|8| | | | | |\n"
     ]
    }
   ],
   "source": [
    "print(\"[ TimeTable ]\")\n",
    "print(\"--------------\")\n",
    "print(\"| |M|T|W|T|F|\")\n",
    "print(\"--------------\")\n",
    "for i in range(8):\n",
    "    print(separ+str(i+1)+separ,end='')\n",
    "    for j in range(5):\n",
    "        print(a[i][j]+separ, end = \"\") \n",
    "    print()"
   ]
  },
  {
   "cell_type": "markdown",
   "id": "a8212e12",
   "metadata": {},
   "source": [
    "## 코딩후기: 반복문을 쓸때 어디가 행인지 열인지 구분하는게 처음에는 어려웠는데 반복문에 들어간 2차원 리스트를 계속 출력해가면서 무슨 값이 나오는지 계속 살펴보니 나중에는 반복문 구조를 쉽게 알 수 있었다. 2차원배열 a에 i 더하고 -1하는 부분에서 많이 어려움이 있었던 것 같다."
   ]
  },
  {
   "cell_type": "code",
   "execution_count": null,
   "id": "f67f88d7",
   "metadata": {},
   "outputs": [],
   "source": []
  }
 ],
 "metadata": {
  "kernelspec": {
   "display_name": "Python 3 (ipykernel)",
   "language": "python",
   "name": "python3"
  },
  "language_info": {
   "codemirror_mode": {
    "name": "ipython",
    "version": 3
   },
   "file_extension": ".py",
   "mimetype": "text/x-python",
   "name": "python",
   "nbconvert_exporter": "python",
   "pygments_lexer": "ipython3",
   "version": "3.9.7"
  }
 },
 "nbformat": 4,
 "nbformat_minor": 5
}
